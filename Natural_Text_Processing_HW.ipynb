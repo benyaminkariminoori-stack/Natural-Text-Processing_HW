{
  "nbformat": 4,
  "nbformat_minor": 0,
  "metadata": {
    "colab": {
      "provenance": []
    },
    "kernelspec": {
      "name": "python3",
      "display_name": "Python 3"
    },
    "language_info": {
      "name": "python"
    }
  },
  "cells": [
    {
      "cell_type": "code",
      "execution_count": 7,
      "metadata": {
        "id": "s-kyGKlh0vJm"
      },
      "outputs": [],
      "source": [
        "import re\n",
        "import json\n",
        "import pandas as pd"
      ]
    },
    {
      "cell_type": "code",
      "source": [
        "# خواندن دیتاست\n",
        "df = pd.read_csv(\"dataset.csv\", encoding=\"utf-8-sig\")\n"
      ],
      "metadata": {
        "id": "IdW_Hc_h0yak"
      },
      "execution_count": 8,
      "outputs": []
    },
    {
      "cell_type": "code",
      "source": [
        "# 1. پیدا کردن تمام تاریخ‌ها\n",
        "dates_raw = df[df[\"Category\"] == \"تاریخ\"][\"Value\"].tolist()\n",
        "\n",
        "date_pattern = re.compile(\n",
        "    r\"(\\d{1,2}/\\d{1,2}/\\d{4})|\"          # فرمت: 25/06/1403\n",
        "    r\"(\\d{1,2}/[آ-ی]+/\\d{4})|\"           # فرمت: 25/شهریور/1403\n",
        "    r\"(\\d{4}-\\d{2}-\\d{2})|\"              # فرمت: 1403-06-05\n",
        "    r\"([آ-ی\\s]+سال\\s\\d{4})\"              # فرمت: بیست و پنجم شهریور ماه سال 1403\n",
        ")\n",
        "\n",
        "dates_clean = []\n",
        "for d in dates_raw:\n",
        "    match = date_pattern.search(d)\n",
        "    if match:\n",
        "        dates_clean.append(match.group())\n",
        "\n",
        "print(\"📌 بخش 1: تاریخ‌ها\")\n",
        "for i, d in enumerate(dates_clean, 1):\n",
        "    print(f\"{i}. {d}\")\n",
        "print(\"-\" * 50)"
      ],
      "metadata": {
        "colab": {
          "base_uri": "https://localhost:8080/"
        },
        "id": "PS1zfntI2AOy",
        "outputId": "8d9ed239-4b84-41bb-d4e4-061f9eca47cf"
      },
      "execution_count": 9,
      "outputs": [
        {
          "output_type": "stream",
          "name": "stdout",
          "text": [
            "📌 بخش 1: تاریخ‌ها\n",
            "1. 25/06/1403\n",
            "2. 25/شهریور/1403\n",
            "3. 1403-06-05\n",
            "4. بیست و پنجم شهریور ماه سال 1403\n",
            "5. پانزدهم دی ماه سال 1403\n",
            "6. یکم مرداد ماه سال 1326\n",
            "--------------------------------------------------\n"
          ]
        }
      ]
    },
    {
      "cell_type": "code",
      "source": [
        " #2. نشانه‌های اختصاری فارسی\n",
        " abbr_raw = df[df[\"Category\"] == \"نشانه اختصاری\"][\"Value\"].tolist()\n",
        "abbr_pattern = re.compile(r\"\\((ص|س|ق\\.م|ره)\\)\")\n",
        "\n",
        "abbreviations = []\n",
        "for a in abbr_raw:\n",
        "    abbreviations.extend(abbr_pattern.findall(a))\n",
        "\n",
        "print(\"📌 بخش 2: نشانه‌های اختصاری فارسی\")\n",
        "for i, ab in enumerate(abbreviations, 1):\n",
        "    print(f\"{i}. {ab}\")\n",
        "print(\"-\" * 50)\n"
      ],
      "metadata": {
        "colab": {
          "base_uri": "https://localhost:8080/"
        },
        "id": "GqRNeZU506pC",
        "outputId": "2dad4d2d-d4af-4b75-a37c-4d7b30506341"
      },
      "execution_count": 10,
      "outputs": [
        {
          "output_type": "stream",
          "name": "stdout",
          "text": [
            "📌 بخش 2: نشانه‌های اختصاری فارسی\n",
            "1. ص\n",
            "2. ق.م\n",
            "3. س\n",
            "--------------------------------------------------\n"
          ]
        }
      ]
    },
    {
      "cell_type": "code",
      "source": [
        "# 3. استخراج ID و Class از HTML\n",
        "html_raw = df[df[\"Category\"] == \"HTML\"][\"Value\"].tolist()\n",
        "\n",
        "id_pattern = re.compile(r'id=\"([^\"]+)\"')\n",
        "class_pattern = re.compile(r'class=\"([^\"]+)\"')\n",
        "\n",
        "ids, classes = [], []\n",
        "for tag in html_raw:\n",
        "    ids.extend(id_pattern.findall(tag))\n",
        "    classes.extend(class_pattern.findall(tag))\n",
        "\n",
        "print(\"📌 بخش 3: آی‌دی‌ها و کلاس‌ها\")\n",
        "print(\"IDs:\")\n",
        "for i, idv in enumerate(ids, 1):\n",
        "    print(f\"  {i}. {idv}\")\n",
        "\n",
        "print(\"Classes:\")\n",
        "for i, cl in enumerate(classes, 1):\n",
        "    print(f\"  {i}. {cl}\")\n",
        "print(\"-\" * 50)\n"
      ],
      "metadata": {
        "colab": {
          "base_uri": "https://localhost:8080/"
        },
        "id": "gFAOYsW-085i",
        "outputId": "2a07e464-e2e0-4a7b-a5f8-30c424641f5f"
      },
      "execution_count": 11,
      "outputs": [
        {
          "output_type": "stream",
          "name": "stdout",
          "text": [
            "📌 بخش 3: آی‌دی‌ها و کلاس‌ها\n",
            "IDs:\n",
            "  1. div1\n",
            "  2. 1dhs\n",
            "Classes:\n",
            "  1. text-center\n",
            "  2. link-primary\n",
            "--------------------------------------------------\n"
          ]
        }
      ]
    },
    {
      "cell_type": "code",
      "source": [
        "# 4. تشخیص JSON\n",
        "json_raw = df[df[\"Category\"] == \"JSON\"][\"Value\"].tolist()\n",
        "valid_jsons = []\n",
        "\n",
        "for js in json_raw:\n",
        "    try:\n",
        "        parsed = json.loads(js)\n",
        "        valid_jsons.append(parsed)\n",
        "    except json.JSONDecodeError:\n",
        "        pass\n",
        "\n",
        "print(\"📌 بخش 4: JSON معتبر\")\n",
        "for i, js in enumerate(valid_jsons, 1):\n",
        "    print(f\"{i}. {json.dumps(js, ensure_ascii=False)}\")\n",
        "print(\"-\" * 50)"
      ],
      "metadata": {
        "colab": {
          "base_uri": "https://localhost:8080/"
        },
        "id": "ZhluG5jh1BPy",
        "outputId": "55b5ee06-d780-40d9-fdf4-ee08eb6e2ca7"
      },
      "execution_count": 12,
      "outputs": [
        {
          "output_type": "stream",
          "name": "stdout",
          "text": [
            "📌 بخش 4: JSON معتبر\n",
            "1. {\"name\": \"Ali\", \"age\": 25, \"city\": \"Tehran\"}\n",
            "2. {\"product\": \"Laptop\", \"price\": 34000, \"currency\": \"IRR\"}\n",
            "--------------------------------------------------\n"
          ]
        }
      ]
    }
  ]
}